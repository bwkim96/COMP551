{
 "cells": [
  {
   "cell_type": "code",
   "execution_count": 1,
   "metadata": {},
   "outputs": [],
   "source": [
    "import pandas as pd\n",
    "import numpy as np\n",
    "from sklearn.feature_extraction.text import CountVectorizer\n",
    "from sklearn.linear_model import LogisticRegression\n",
    "from sklearn.metrics import roc_auc_score\n",
    "from sklearn.metrics import accuracy_score\n",
    "from sklearn.feature_extraction.text import TfidfVectorizer\n"
   ]
  },
  {
   "cell_type": "code",
   "execution_count": 2,
   "metadata": {},
   "outputs": [
    {
     "data": {
      "text/html": [
       "<div>\n",
       "<style scoped>\n",
       "    .dataframe tbody tr th:only-of-type {\n",
       "        vertical-align: middle;\n",
       "    }\n",
       "\n",
       "    .dataframe tbody tr th {\n",
       "        vertical-align: top;\n",
       "    }\n",
       "\n",
       "    .dataframe thead th {\n",
       "        text-align: right;\n",
       "    }\n",
       "</style>\n",
       "<table border=\"1\" class=\"dataframe\">\n",
       "  <thead>\n",
       "    <tr style=\"text-align: right;\">\n",
       "      <th></th>\n",
       "      <th>0</th>\n",
       "      <th>1</th>\n",
       "      <th>2</th>\n",
       "      <th>3</th>\n",
       "    </tr>\n",
       "  </thead>\n",
       "  <tbody>\n",
       "    <tr>\n",
       "      <th>0</th>\n",
       "      <td>5</td>\n",
       "      <td>why doesn't an optical mouse work on a glass t...</td>\n",
       "      <td>or even on some surfaces?</td>\n",
       "      <td>Optical mice use an LED and a camera to rapidl...</td>\n",
       "    </tr>\n",
       "    <tr>\n",
       "      <th>1</th>\n",
       "      <td>6</td>\n",
       "      <td>What is the best off-road motorcycle trail ?</td>\n",
       "      <td>long-distance trail throughout CA</td>\n",
       "      <td>i hear that the mojave road is amazing!&lt;br /&gt;\\...</td>\n",
       "    </tr>\n",
       "    <tr>\n",
       "      <th>2</th>\n",
       "      <td>3</td>\n",
       "      <td>What is Trans Fat? How to reduce that?</td>\n",
       "      <td>I heard that tras fat is bad for the body.  Wh...</td>\n",
       "      <td>Trans fats occur in manufactured foods during ...</td>\n",
       "    </tr>\n",
       "    <tr>\n",
       "      <th>3</th>\n",
       "      <td>7</td>\n",
       "      <td>How many planes Fedex has?</td>\n",
       "      <td>I heard that it is the largest airline in the ...</td>\n",
       "      <td>according to the www.fedex.com web site:\\nAir ...</td>\n",
       "    </tr>\n",
       "    <tr>\n",
       "      <th>4</th>\n",
       "      <td>7</td>\n",
       "      <td>In the san francisco bay area, does it make se...</td>\n",
       "      <td>the prices of rent and the price of buying doe...</td>\n",
       "      <td>renting vs buying depends on your goals. &lt;br /...</td>\n",
       "    </tr>\n",
       "  </tbody>\n",
       "</table>\n",
       "</div>"
      ],
      "text/plain": [
       "   0                                                  1  \\\n",
       "0  5  why doesn't an optical mouse work on a glass t...   \n",
       "1  6       What is the best off-road motorcycle trail ?   \n",
       "2  3             What is Trans Fat? How to reduce that?   \n",
       "3  7                         How many planes Fedex has?   \n",
       "4  7  In the san francisco bay area, does it make se...   \n",
       "\n",
       "                                                   2  \\\n",
       "0                          or even on some surfaces?   \n",
       "1                  long-distance trail throughout CA   \n",
       "2  I heard that tras fat is bad for the body.  Wh...   \n",
       "3  I heard that it is the largest airline in the ...   \n",
       "4  the prices of rent and the price of buying doe...   \n",
       "\n",
       "                                                   3  \n",
       "0  Optical mice use an LED and a camera to rapidl...  \n",
       "1  i hear that the mojave road is amazing!<br />\\...  \n",
       "2  Trans fats occur in manufactured foods during ...  \n",
       "3  according to the www.fedex.com web site:\\nAir ...  \n",
       "4  renting vs buying depends on your goals. <br /...  "
      ]
     },
     "execution_count": 2,
     "metadata": {},
     "output_type": "execute_result"
    }
   ],
   "source": [
    "# Read train.csv\n",
    "df_train = pd.read_csv('data/yahoo_answers/train.csv', header=None)\n",
    "df_train.head()"
   ]
  },
  {
   "cell_type": "code",
   "execution_count": 3,
   "metadata": {
    "scrolled": true
   },
   "outputs": [
    {
     "data": {
      "text/html": [
       "<div>\n",
       "<style scoped>\n",
       "    .dataframe tbody tr th:only-of-type {\n",
       "        vertical-align: middle;\n",
       "    }\n",
       "\n",
       "    .dataframe tbody tr th {\n",
       "        vertical-align: top;\n",
       "    }\n",
       "\n",
       "    .dataframe thead th {\n",
       "        text-align: right;\n",
       "    }\n",
       "</style>\n",
       "<table border=\"1\" class=\"dataframe\">\n",
       "  <thead>\n",
       "    <tr style=\"text-align: right;\">\n",
       "      <th></th>\n",
       "      <th>0</th>\n",
       "      <th>1</th>\n",
       "      <th>2</th>\n",
       "      <th>3</th>\n",
       "    </tr>\n",
       "  </thead>\n",
       "  <tbody>\n",
       "    <tr>\n",
       "      <th>0</th>\n",
       "      <td>9</td>\n",
       "      <td>What makes friendship click?</td>\n",
       "      <td>How does the spark keep going?</td>\n",
       "      <td>good communication is what does it.  Can you m...</td>\n",
       "    </tr>\n",
       "    <tr>\n",
       "      <th>1</th>\n",
       "      <td>2</td>\n",
       "      <td>Why does Zebras have stripes?</td>\n",
       "      <td>What is the purpose or those stripes? Who do t...</td>\n",
       "      <td>this provides camouflage - predator vision is ...</td>\n",
       "    </tr>\n",
       "    <tr>\n",
       "      <th>2</th>\n",
       "      <td>4</td>\n",
       "      <td>What did the itsy bitsy sipder climb up?</td>\n",
       "      <td>NaN</td>\n",
       "      <td>waterspout</td>\n",
       "    </tr>\n",
       "    <tr>\n",
       "      <th>3</th>\n",
       "      <td>4</td>\n",
       "      <td>What is the difference between a Bachelors and...</td>\n",
       "      <td>NaN</td>\n",
       "      <td>One difference between a Bachelors and a Maste...</td>\n",
       "    </tr>\n",
       "    <tr>\n",
       "      <th>4</th>\n",
       "      <td>3</td>\n",
       "      <td>Why do women get PMS?</td>\n",
       "      <td>NaN</td>\n",
       "      <td>Premenstrual syndrome (PMS) is a group of symp...</td>\n",
       "    </tr>\n",
       "  </tbody>\n",
       "</table>\n",
       "</div>"
      ],
      "text/plain": [
       "   0                                                  1  \\\n",
       "0  9                       What makes friendship click?   \n",
       "1  2                      Why does Zebras have stripes?   \n",
       "2  4           What did the itsy bitsy sipder climb up?   \n",
       "3  4  What is the difference between a Bachelors and...   \n",
       "4  3                              Why do women get PMS?   \n",
       "\n",
       "                                                   2  \\\n",
       "0                     How does the spark keep going?   \n",
       "1  What is the purpose or those stripes? Who do t...   \n",
       "2                                                NaN   \n",
       "3                                                NaN   \n",
       "4                                                NaN   \n",
       "\n",
       "                                                   3  \n",
       "0  good communication is what does it.  Can you m...  \n",
       "1  this provides camouflage - predator vision is ...  \n",
       "2                                         waterspout  \n",
       "3  One difference between a Bachelors and a Maste...  \n",
       "4  Premenstrual syndrome (PMS) is a group of symp...  "
      ]
     },
     "execution_count": 3,
     "metadata": {},
     "output_type": "execute_result"
    }
   ],
   "source": [
    "# Read test.csv\n",
    "df_test = pd.read_csv('data/yahoo_answers/test.csv', header=None)\n",
    "df_test.head()"
   ]
  },
  {
   "cell_type": "code",
   "execution_count": 4,
   "metadata": {},
   "outputs": [],
   "source": [
    "# Combine the question title [1], question text [2], and the best answer [3]\n",
    "df_train['text'] = df_train[1].fillna('') + \" \" + df_train[2].fillna('') + \" \" + df_train[3].fillna('')\n",
    "df_test['text'] = df_test[1].fillna('') + \" \" + df_test[2].fillna('') + \" \" + df_test[3].fillna('')\n",
    "#df_train.head()\n",
    "#df_test.head()\n",
    "#df_train.loc[1,'text']\n",
    "#df_test.loc[2,'text']"
   ]
  },
  {
   "cell_type": "code",
   "execution_count": 5,
   "metadata": {},
   "outputs": [],
   "source": [
    "# Split the data into X_train (the combined text) and y_train (classes)\n",
    "#X_train = df_train.loc[:,1:3].values\n",
    "X_train = df_train['text']\n",
    "y_train = df_train[0]\n",
    "# Same with X_test and y_test\n",
    "#X_test = df_test.loc[:,1:3].values\n",
    "X_test = df_test['text']\n",
    "y_test = df_test[0]"
   ]
  },
  {
   "cell_type": "code",
   "execution_count": 6,
   "metadata": {},
   "outputs": [
    {
     "data": {
      "text/plain": [
       "50000"
      ]
     },
     "execution_count": 6,
     "metadata": {},
     "output_type": "execute_result"
    }
   ],
   "source": [
    "# Instantiating the TfidfVectorizer and fitting it to our training data, converting our \n",
    "# collection of text documents into a matrix of token counts for Bags of Words with TFIDF\n",
    "# max_features = 50000 selects the 50,000 most frequent words from the training set\n",
    "##### For hyperparameter tuning changed the max_features, ngram_range (default=(1,1)), min_df (default=1)\n",
    "vect = TfidfVectorizer(max_features = 50000).fit(X_train)\n",
    "len(vect.get_feature_names())"
   ]
  },
  {
   "cell_type": "code",
   "execution_count": 7,
   "metadata": {},
   "outputs": [
    {
     "data": {
      "text/plain": [
       "<1400000x50000 sparse matrix of type '<class 'numpy.float64'>'\n",
       "\twith 79286552 stored elements in Compressed Sparse Row format>"
      ]
     },
     "execution_count": 7,
     "metadata": {},
     "output_type": "execute_result"
    }
   ],
   "source": [
    "# Transform the documents in X_train to a document term matrix,\n",
    "# which gives us the bags-of-word representation of X_train.\n",
    "# Each row corresponds to a document, and each column is a word from our training vocabulary\n",
    "X_train_vectorized = vect.transform(X_train)\n",
    "X_train_vectorized"
   ]
  },
  {
   "cell_type": "code",
   "execution_count": 8,
   "metadata": {},
   "outputs": [
    {
     "data": {
      "text/plain": [
       "LogisticRegression(C=2.0, class_weight=None, dual=False, fit_intercept=True,\n",
       "          intercept_scaling=1, max_iter=100, multi_class='multinomial',\n",
       "          n_jobs=1, penalty='l2', random_state=None, solver='newton-cg',\n",
       "          tol=0.0001, verbose=0, warm_start=False)"
      ]
     },
     "execution_count": 8,
     "metadata": {},
     "output_type": "execute_result"
    }
   ],
   "source": [
    "# Now train the Logistic Regression classifier based on this feature matrix\n",
    "# X_train_vectorized\n",
    "##### For hyperparameter tuning, maybe changed C (default=1.0) (0.01, 0.1, 0.5, 1.5, 2)\n",
    "model = LogisticRegression(multi_class='multinomial',solver='newton-cg', C=2.0)\n",
    "model.fit(X_train_vectorized, y_train)"
   ]
  },
  {
   "cell_type": "code",
   "execution_count": 9,
   "metadata": {},
   "outputs": [],
   "source": [
    "# Make predictions using X_test\n",
    "predictions = model.predict(vect.transform(X_test))"
   ]
  },
  {
   "cell_type": "code",
   "execution_count": 10,
   "metadata": {},
   "outputs": [
    {
     "name": "stdout",
     "output_type": "stream",
     "text": [
      "Accuracy Score:  0.7230833333333333\n"
     ]
    }
   ],
   "source": [
    "# Compute the accuracy score of the prediction\n",
    "print('Accuracy Score: ', accuracy_score(y_test, predictions))\n",
    "\n",
    "# Original = 0.7241\n",
    "# TfidfVectorizer(max_features = 25000) --> 0.7207\n",
    "# TfidfVectorizer(max_features = 100000) --> 0.7249333333333333\n",
    "# TfidfVectorizer(max_features = 200000) --> 0.7251666666666666\n",
    "# TfidfVectorizer(max_features=50000, ngram_range(1,2)) --> 0.7206166666666667\n",
    "# TfidfVectorizer(max_features = 50000, min_df = 5) --> 0.7241\n",
    "# TfidfVectorizer(max_features = 50000, min_df = 50) --> 0.7235833333333334\n",
    "# TfidfVectorizer(max_features = 100000, min_df = 50, ngram_range = (1,2)) --> 0.7248833333333333\n",
    "# \n",
    "# C = 0.01 --> 0.6709833333333334\n",
    "# C = 0.1 --> 0.7124833333333334\n",
    "# C = 0.5 --> 0.7233666666666667\n",
    "# C = 1.0 (default) --> 0.7241\n",
    "# C = 1.5 --> 0.7235666666666667\n",
    "# C = 2.0 --> 0.7230833333333333"
   ]
  },
  {
   "cell_type": "code",
   "execution_count": 11,
   "metadata": {},
   "outputs": [
    {
     "name": "stdout",
     "output_type": "stream",
     "text": [
      "Smallest Tfidf: \n",
      "['skimmmed' 'avaailable' 'concenterated' 'bplansindex' 'bps_main'\n",
      " 'bizplanit' 'sbaer' 'vplan' 'buspln_m' 'toolpage']\n",
      "\n",
      "Largest Tfidf: \n",
      "['word' 'now' 'lol' 'malaysia' 'mar' 'calculate' 'yahoo' 'mississippi'\n",
      " 'missouri' 'bush']\n",
      "\n"
     ]
    }
   ],
   "source": [
    "### Just for reference ###\n",
    "# Determine each feature's weight in terms of positivity and negativity\n",
    "# Using the coefficients for each feature(a word)\n",
    "feature_names = np.array(vect.get_feature_names())\n",
    "\n",
    "sorted_tfidf_index = X_train_vectorized.max(0).toarray()[0].argsort()\n",
    "\n",
    "print('Smallest Tfidf: \\n{}\\n'.format(feature_names[sorted_tfidf_index[:10]]))\n",
    "print('Largest Tfidf: \\n{}\\n'.format(feature_names[sorted_tfidf_index[:-11:-1]]))\n"
   ]
  },
  {
   "cell_type": "code",
   "execution_count": 12,
   "metadata": {},
   "outputs": [
    {
     "name": "stdout",
     "output_type": "stream",
     "text": [
      "0.7230833333333333\n"
     ]
    }
   ],
   "source": [
    "# Just trying to calculate the accuracy on my own\n",
    "x = 0\n",
    "for i in range(len(y_test)):\n",
    "    if predictions[i] != y_test[i]:\n",
    "        x+=1\n",
    "print(1-(x/len(predictions)))"
   ]
  }
 ],
 "metadata": {
  "kernelspec": {
   "display_name": "Python 3",
   "language": "python",
   "name": "python3"
  },
  "language_info": {
   "codemirror_mode": {
    "name": "ipython",
    "version": 3
   },
   "file_extension": ".py",
   "mimetype": "text/x-python",
   "name": "python",
   "nbconvert_exporter": "python",
   "pygments_lexer": "ipython3",
   "version": "3.6.5"
  }
 },
 "nbformat": 4,
 "nbformat_minor": 2
}
